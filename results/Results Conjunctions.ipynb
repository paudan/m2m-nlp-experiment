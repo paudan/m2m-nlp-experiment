{
 "cells": [
  {
   "cell_type": "code",
   "execution_count": 1,
   "metadata": {},
   "outputs": [],
   "source": [
    "import os\n",
    "import pandas as pd\n",
    "from performance import conjunctives_extraction_performance"
   ]
  },
  {
   "cell_type": "code",
   "execution_count": 2,
   "metadata": {},
   "outputs": [],
   "source": [
    "CONJUNCT_ACTUAL = os.path.join('..', 'datasets', 'conjunctive_statements.csv')"
   ]
  },
  {
   "cell_type": "code",
   "execution_count": 3,
   "metadata": {},
   "outputs": [],
   "source": [
    "data_df = pd.read_csv(CONJUNCT_ACTUAL, sep=';')\n",
    "# Temporary workaround\n",
    "data_df = data_df.iloc[:410]"
   ]
  },
  {
   "cell_type": "code",
   "execution_count": 4,
   "metadata": {},
   "outputs": [
    {
     "data": {
      "text/html": [
       "<div>\n",
       "<style scoped>\n",
       "    .dataframe tbody tr th:only-of-type {\n",
       "        vertical-align: middle;\n",
       "    }\n",
       "\n",
       "    .dataframe tbody tr th {\n",
       "        vertical-align: top;\n",
       "    }\n",
       "\n",
       "    .dataframe thead th {\n",
       "        text-align: right;\n",
       "    }\n",
       "</style>\n",
       "<table border=\"1\" class=\"dataframe\">\n",
       "  <thead>\n",
       "    <tr style=\"text-align: right;\">\n",
       "      <th></th>\n",
       "      <th>Unnamed: 0</th>\n",
       "      <th>Task</th>\n",
       "      <th>Verb</th>\n",
       "      <th>NounPhrases</th>\n",
       "    </tr>\n",
       "  </thead>\n",
       "  <tbody>\n",
       "    <tr>\n",
       "      <th>0</th>\n",
       "      <td>6</td>\n",
       "      <td>adds incoming mail date, records letter, archi...</td>\n",
       "      <td>adds</td>\n",
       "      <td>incoming mail date|records letter|archives</td>\n",
       "    </tr>\n",
       "    <tr>\n",
       "      <th>1</th>\n",
       "      <td>8</td>\n",
       "      <td>empties &amp; checks the mails in the mailbox</td>\n",
       "      <td>empties|checks</td>\n",
       "      <td>mails in the mailbox</td>\n",
       "    </tr>\n",
       "    <tr>\n",
       "      <th>2</th>\n",
       "      <td>10</td>\n",
       "      <td>sends a letter to person and explaines why not</td>\n",
       "      <td>sends</td>\n",
       "      <td>Charles|letter to person</td>\n",
       "    </tr>\n",
       "    <tr>\n",
       "      <th>3</th>\n",
       "      <td>12</td>\n",
       "      <td>prepare invoices&amp;send a letter to customer</td>\n",
       "      <td>prepare;send</td>\n",
       "      <td>Invoices;a letter to customer</td>\n",
       "    </tr>\n",
       "    <tr>\n",
       "      <th>4</th>\n",
       "      <td>13</td>\n",
       "      <td>prints a membership card&amp;send to new customer</td>\n",
       "      <td>prints;sends to</td>\n",
       "      <td>membership card;new customer</td>\n",
       "    </tr>\n",
       "  </tbody>\n",
       "</table>\n",
       "</div>"
      ],
      "text/plain": [
       "   Unnamed: 0                                               Task  \\\n",
       "0           6  adds incoming mail date, records letter, archi...   \n",
       "1           8          empties & checks the mails in the mailbox   \n",
       "2          10     sends a letter to person and explaines why not   \n",
       "3          12         prepare invoices&send a letter to customer   \n",
       "4          13      prints a membership card&send to new customer   \n",
       "\n",
       "              Verb                                 NounPhrases  \n",
       "0             adds  incoming mail date|records letter|archives  \n",
       "1   empties|checks                        mails in the mailbox  \n",
       "2            sends                    Charles|letter to person  \n",
       "3     prepare;send               Invoices;a letter to customer  \n",
       "4  prints;sends to                membership card;new customer  "
      ]
     },
     "execution_count": 4,
     "metadata": {},
     "output_type": "execute_result"
    }
   ],
   "source": [
    "data_df.head()"
   ]
  },
  {
   "cell_type": "code",
   "execution_count": 5,
   "metadata": {},
   "outputs": [
    {
     "name": "stderr",
     "output_type": "stream",
     "text": [
      "INFO:numexpr.utils:NumExpr defaulting to 8 threads.\n"
     ]
    },
    {
     "data": {
      "text/plain": [
       "{'Accuracy': 0.12439024390243902,\n",
       " 'Precision': 0.6321428571428571,\n",
       " 'Recall': 0.4130688448074679,\n",
       " 'F1-Score': 0.4996471418489767,\n",
       " 'MeanDeviation': 0.5885365853658536,\n",
       " 'MedianDeviation': 0.5,\n",
       " 'MeanDice': 0.4489953542392566,\n",
       " 'MedianDice': 0.5,\n",
       " 'MeanJaccard': 0.3888850174216028,\n",
       " 'MedianJaccard': 0.3333333333333333}"
      ]
     },
     "execution_count": 5,
     "metadata": {},
     "output_type": "execute_result"
    }
   ],
   "source": [
    "spacy_df = pd.read_csv('conjunctives-spacy.csv', sep=';')\n",
    "results_spacy = conjunctives_extraction_performance(data_df, spacy_df)\n",
    "results_spacy"
   ]
  },
  {
   "cell_type": "code",
   "execution_count": 6,
   "metadata": {},
   "outputs": [
    {
     "data": {
      "text/plain": [
       "{'Accuracy': 0.1951219512195122,\n",
       " 'Precision': 0.7483552631578947,\n",
       " 'Recall': 0.5309218203033839,\n",
       " 'F1-Score': 0.6211604095563139,\n",
       " 'MeanDeviation': 0.47695121951219516,\n",
       " 'MedianDeviation': 0.5,\n",
       " 'MeanDice': 0.5539605110336815,\n",
       " 'MedianDice': 0.6666666666666666,\n",
       " 'MeanJaccard': 0.5015853658536584,\n",
       " 'MedianJaccard': 0.5}"
      ]
     },
     "execution_count": 6,
     "metadata": {},
     "output_type": "execute_result"
    }
   ],
   "source": [
    "stanza_df = pd.read_csv('conjunctives-stanza.csv', sep=';')\n",
    "results_stanza = conjunctives_extraction_performance(data_df, stanza_df)\n",
    "results_stanza"
   ]
  },
  {
   "cell_type": "code",
   "execution_count": 8,
   "metadata": {},
   "outputs": [
    {
     "data": {
      "text/html": [
       "<div>\n",
       "<style scoped>\n",
       "    .dataframe tbody tr th:only-of-type {\n",
       "        vertical-align: middle;\n",
       "    }\n",
       "\n",
       "    .dataframe tbody tr th {\n",
       "        vertical-align: top;\n",
       "    }\n",
       "\n",
       "    .dataframe thead th {\n",
       "        text-align: right;\n",
       "    }\n",
       "</style>\n",
       "<table border=\"1\" class=\"dataframe\">\n",
       "  <thead>\n",
       "    <tr style=\"text-align: right;\">\n",
       "      <th></th>\n",
       "      <th>0</th>\n",
       "      <th>1</th>\n",
       "    </tr>\n",
       "  </thead>\n",
       "  <tbody>\n",
       "    <tr>\n",
       "      <th>Accuracy</th>\n",
       "      <td>0.124390</td>\n",
       "      <td>0.195122</td>\n",
       "    </tr>\n",
       "    <tr>\n",
       "      <th>Precision</th>\n",
       "      <td>0.632143</td>\n",
       "      <td>0.748355</td>\n",
       "    </tr>\n",
       "    <tr>\n",
       "      <th>Recall</th>\n",
       "      <td>0.413069</td>\n",
       "      <td>0.530922</td>\n",
       "    </tr>\n",
       "    <tr>\n",
       "      <th>F1-Score</th>\n",
       "      <td>0.499647</td>\n",
       "      <td>0.621160</td>\n",
       "    </tr>\n",
       "    <tr>\n",
       "      <th>MeanDeviation</th>\n",
       "      <td>0.588537</td>\n",
       "      <td>0.476951</td>\n",
       "    </tr>\n",
       "    <tr>\n",
       "      <th>MedianDeviation</th>\n",
       "      <td>0.500000</td>\n",
       "      <td>0.500000</td>\n",
       "    </tr>\n",
       "    <tr>\n",
       "      <th>MeanDice</th>\n",
       "      <td>0.448995</td>\n",
       "      <td>0.553961</td>\n",
       "    </tr>\n",
       "    <tr>\n",
       "      <th>MedianDice</th>\n",
       "      <td>0.500000</td>\n",
       "      <td>0.666667</td>\n",
       "    </tr>\n",
       "    <tr>\n",
       "      <th>MeanJaccard</th>\n",
       "      <td>0.388885</td>\n",
       "      <td>0.501585</td>\n",
       "    </tr>\n",
       "    <tr>\n",
       "      <th>MedianJaccard</th>\n",
       "      <td>0.333333</td>\n",
       "      <td>0.500000</td>\n",
       "    </tr>\n",
       "  </tbody>\n",
       "</table>\n",
       "</div>"
      ],
      "text/plain": [
       "                        0         1\n",
       "Accuracy         0.124390  0.195122\n",
       "Precision        0.632143  0.748355\n",
       "Recall           0.413069  0.530922\n",
       "F1-Score         0.499647  0.621160\n",
       "MeanDeviation    0.588537  0.476951\n",
       "MedianDeviation  0.500000  0.500000\n",
       "MeanDice         0.448995  0.553961\n",
       "MedianDice       0.500000  0.666667\n",
       "MeanJaccard      0.388885  0.501585\n",
       "MedianJaccard    0.333333  0.500000"
      ]
     },
     "execution_count": 8,
     "metadata": {},
     "output_type": "execute_result"
    }
   ],
   "source": [
    "pd.DataFrame([results_spacy, results_stanza]).T"
   ]
  }
 ],
 "metadata": {
  "kernelspec": {
   "display_name": "Python 3",
   "language": "python",
   "name": "python3"
  },
  "language_info": {
   "codemirror_mode": {
    "name": "ipython",
    "version": 3
   },
   "file_extension": ".py",
   "mimetype": "text/x-python",
   "name": "python",
   "nbconvert_exporter": "python",
   "pygments_lexer": "ipython3",
   "version": "3.6.9"
  }
 },
 "nbformat": 4,
 "nbformat_minor": 4
}
