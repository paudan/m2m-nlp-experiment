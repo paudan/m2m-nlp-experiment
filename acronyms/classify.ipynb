{
 "cells": [
  {
   "cell_type": "code",
   "execution_count": 47,
   "metadata": {},
   "outputs": [],
   "source": [
    "import pandas as pd\n",
    "from numpy.random import seed\n",
    "from sklearn.model_selection import train_test_split\n",
    "from sklearn.metrics import confusion_matrix, classification_report\n",
    "from yellowbrick.classifier.classification_report import classification_report as yb_report\n",
    "from yellowbrick.classifier.threshold import discrimination_threshold\n",
    "from sklearn.ensemble import GradientBoostingClassifier, RandomForestClassifier\n",
    "from mlxtend.evaluate import mcnemar_tables, mcnemar\n",
    "from classifier import *\n",
    "\n",
    "import warnings\n",
    "warnings.simplefilter(action='ignore', category=FutureWarning)\n",
    "warnings.simplefilter(action='ignore', category=UserWarning)"
   ]
  },
  {
   "cell_type": "code",
   "execution_count": 2,
   "metadata": {},
   "outputs": [
    {
     "data": {
      "text/html": [
       "<div>\n",
       "<style scoped>\n",
       "    .dataframe tbody tr th:only-of-type {\n",
       "        vertical-align: middle;\n",
       "    }\n",
       "\n",
       "    .dataframe tbody tr th {\n",
       "        vertical-align: top;\n",
       "    }\n",
       "\n",
       "    .dataframe thead th {\n",
       "        text-align: right;\n",
       "    }\n",
       "</style>\n",
       "<table border=\"1\" class=\"dataframe\">\n",
       "  <thead>\n",
       "    <tr style=\"text-align: right;\">\n",
       "      <th></th>\n",
       "      <th>has.vowels</th>\n",
       "      <th>has.special</th>\n",
       "      <th>just.letters</th>\n",
       "      <th>roman</th>\n",
       "      <th>english.word</th>\n",
       "      <th>long.char.seq</th>\n",
       "      <th>starts.with.two</th>\n",
       "      <th>pos</th>\n",
       "      <th>prev.pos</th>\n",
       "      <th>prev.pos2</th>\n",
       "      <th>next.pos</th>\n",
       "      <th>next.pos2</th>\n",
       "      <th>prev.dep</th>\n",
       "      <th>prev.dep2</th>\n",
       "      <th>next.dep</th>\n",
       "      <th>next.dep2</th>\n",
       "    </tr>\n",
       "  </thead>\n",
       "  <tbody>\n",
       "    <tr>\n",
       "      <th>0</th>\n",
       "      <td>True</td>\n",
       "      <td>False</td>\n",
       "      <td>True</td>\n",
       "      <td>False</td>\n",
       "      <td>False</td>\n",
       "      <td>False</td>\n",
       "      <td>False</td>\n",
       "      <td>PROPN</td>\n",
       "      <td>NaN</td>\n",
       "      <td>NaN</td>\n",
       "      <td>PROPN</td>\n",
       "      <td>NOUN</td>\n",
       "      <td>NaN</td>\n",
       "      <td>NaN</td>\n",
       "      <td>compound</td>\n",
       "      <td>compound</td>\n",
       "    </tr>\n",
       "    <tr>\n",
       "      <th>1</th>\n",
       "      <td>True</td>\n",
       "      <td>False</td>\n",
       "      <td>True</td>\n",
       "      <td>False</td>\n",
       "      <td>False</td>\n",
       "      <td>False</td>\n",
       "      <td>False</td>\n",
       "      <td>PROPN</td>\n",
       "      <td>NaN</td>\n",
       "      <td>NaN</td>\n",
       "      <td>PROPN</td>\n",
       "      <td>NOUN</td>\n",
       "      <td>NaN</td>\n",
       "      <td>NaN</td>\n",
       "      <td>compound</td>\n",
       "      <td>root</td>\n",
       "    </tr>\n",
       "    <tr>\n",
       "      <th>2</th>\n",
       "      <td>True</td>\n",
       "      <td>False</td>\n",
       "      <td>True</td>\n",
       "      <td>False</td>\n",
       "      <td>False</td>\n",
       "      <td>False</td>\n",
       "      <td>False</td>\n",
       "      <td>PROPN</td>\n",
       "      <td>NaN</td>\n",
       "      <td>NaN</td>\n",
       "      <td>PROPN</td>\n",
       "      <td>PROPN</td>\n",
       "      <td>NaN</td>\n",
       "      <td>NaN</td>\n",
       "      <td>compound</td>\n",
       "      <td>compound</td>\n",
       "    </tr>\n",
       "    <tr>\n",
       "      <th>3</th>\n",
       "      <td>True</td>\n",
       "      <td>False</td>\n",
       "      <td>True</td>\n",
       "      <td>False</td>\n",
       "      <td>False</td>\n",
       "      <td>False</td>\n",
       "      <td>False</td>\n",
       "      <td>PROPN</td>\n",
       "      <td>NaN</td>\n",
       "      <td>NaN</td>\n",
       "      <td>PROPN</td>\n",
       "      <td>NaN</td>\n",
       "      <td>NaN</td>\n",
       "      <td>NaN</td>\n",
       "      <td>root</td>\n",
       "      <td>NaN</td>\n",
       "    </tr>\n",
       "    <tr>\n",
       "      <th>4</th>\n",
       "      <td>True</td>\n",
       "      <td>False</td>\n",
       "      <td>True</td>\n",
       "      <td>False</td>\n",
       "      <td>False</td>\n",
       "      <td>False</td>\n",
       "      <td>False</td>\n",
       "      <td>PROPN</td>\n",
       "      <td>NaN</td>\n",
       "      <td>NaN</td>\n",
       "      <td>PROPN</td>\n",
       "      <td>PUNCT</td>\n",
       "      <td>NaN</td>\n",
       "      <td>NaN</td>\n",
       "      <td>flat</td>\n",
       "      <td>punct</td>\n",
       "    </tr>\n",
       "  </tbody>\n",
       "</table>\n",
       "</div>"
      ],
      "text/plain": [
       "   has.vowels  has.special  just.letters  roman  english.word  long.char.seq  \\\n",
       "0        True        False          True  False         False          False   \n",
       "1        True        False          True  False         False          False   \n",
       "2        True        False          True  False         False          False   \n",
       "3        True        False          True  False         False          False   \n",
       "4        True        False          True  False         False          False   \n",
       "\n",
       "   starts.with.two    pos prev.pos prev.pos2 next.pos next.pos2 prev.dep  \\\n",
       "0            False  PROPN      NaN       NaN    PROPN      NOUN      NaN   \n",
       "1            False  PROPN      NaN       NaN    PROPN      NOUN      NaN   \n",
       "2            False  PROPN      NaN       NaN    PROPN     PROPN      NaN   \n",
       "3            False  PROPN      NaN       NaN    PROPN       NaN      NaN   \n",
       "4            False  PROPN      NaN       NaN    PROPN     PUNCT      NaN   \n",
       "\n",
       "  prev.dep2  next.dep next.dep2  \n",
       "0       NaN  compound  compound  \n",
       "1       NaN  compound      root  \n",
       "2       NaN  compound  compound  \n",
       "3       NaN      root       NaN  \n",
       "4       NaN      flat     punct  "
      ]
     },
     "execution_count": 2,
     "metadata": {},
     "output_type": "execute_result"
    }
   ],
   "source": [
    "features = pd.read_csv('dataset.csv')\n",
    "labels = features['label']\n",
    "features = features.drop(labels=['token', 'length', 'label'], axis=1)\n",
    "features = features.drop(labels='all.upper', axis=1)\n",
    "features.head()"
   ]
  },
  {
   "cell_type": "code",
   "execution_count": 4,
   "metadata": {},
   "outputs": [
    {
     "name": "stdout",
     "output_type": "stream",
     "text": [
      "(11605, 16) (4974, 16) (11605,) (4974,)\n"
     ]
    }
   ],
   "source": [
    "seed(SEED)\n",
    "X_train, X_test, y_train, y_test = train_test_split(features, labels, test_size=0.3, random_state=SEED, stratify=labels)\n",
    "print(X_train.shape, X_test.shape, y_train.shape, y_test.shape)"
   ]
  },
  {
   "cell_type": "markdown",
   "metadata": {},
   "source": [
    "Training dataset distribution"
   ]
  },
  {
   "cell_type": "code",
   "execution_count": 5,
   "metadata": {},
   "outputs": [
    {
     "data": {
      "text/plain": [
       "0    10560\n",
       "1     1045\n",
       "Name: label, dtype: int64"
      ]
     },
     "execution_count": 5,
     "metadata": {},
     "output_type": "execute_result"
    }
   ],
   "source": [
    "y_train.value_counts()"
   ]
  },
  {
   "cell_type": "markdown",
   "metadata": {},
   "source": [
    "Testing dataset distribution"
   ]
  },
  {
   "cell_type": "code",
   "execution_count": 6,
   "metadata": {},
   "outputs": [
    {
     "data": {
      "text/plain": [
       "0    4526\n",
       "1     448\n",
       "Name: label, dtype: int64"
      ]
     },
     "execution_count": 6,
     "metadata": {},
     "output_type": "execute_result"
    }
   ],
   "source": [
    "y_test.value_counts()"
   ]
  },
  {
   "cell_type": "markdown",
   "metadata": {},
   "source": [
    "### Test simple CatBoost classifier"
   ]
  },
  {
   "cell_type": "code",
   "execution_count": 7,
   "metadata": {},
   "outputs": [],
   "source": [
    "clf, results, feature_names = train_classifier(X_train, y_train, 'classifier-sklearn', X_test, y_test)"
   ]
  },
  {
   "cell_type": "code",
   "execution_count": 10,
   "metadata": {},
   "outputs": [
    {
     "name": "stdout",
     "output_type": "stream",
     "text": [
      "              precision    recall  f1-score   support\n",
      "\n",
      "           0       0.98      0.96      0.97      4624\n",
      "           1       0.63      0.81      0.71       350\n",
      "\n",
      "    accuracy                           0.95      4974\n",
      "   macro avg       0.81      0.88      0.84      4974\n",
      "weighted avg       0.96      0.95      0.96      4974\n",
      "\n"
     ]
    }
   ],
   "source": [
    "print(classification_report(results['predicted'], results['original']))"
   ]
  },
  {
   "cell_type": "markdown",
   "metadata": {},
   "source": [
    "Confusion matrix"
   ]
  },
  {
   "cell_type": "markdown",
   "metadata": {},
   "source": [
    "Feature importance"
   ]
  },
  {
   "cell_type": "code",
   "execution_count": 9,
   "metadata": {},
   "outputs": [
    {
     "data": {
      "text/html": [
       "<div>\n",
       "<style scoped>\n",
       "    .dataframe tbody tr th:only-of-type {\n",
       "        vertical-align: middle;\n",
       "    }\n",
       "\n",
       "    .dataframe tbody tr th {\n",
       "        vertical-align: top;\n",
       "    }\n",
       "\n",
       "    .dataframe thead th {\n",
       "        text-align: right;\n",
       "    }\n",
       "</style>\n",
       "<table border=\"1\" class=\"dataframe\">\n",
       "  <thead>\n",
       "    <tr style=\"text-align: right;\">\n",
       "      <th></th>\n",
       "      <th>feature</th>\n",
       "      <th>Feature Id</th>\n",
       "      <th>Importances</th>\n",
       "    </tr>\n",
       "  </thead>\n",
       "  <tbody>\n",
       "    <tr>\n",
       "      <th>0</th>\n",
       "      <td>encoder__x0_0</td>\n",
       "      <td>0</td>\n",
       "      <td>3.344331</td>\n",
       "    </tr>\n",
       "    <tr>\n",
       "      <th>1</th>\n",
       "      <td>encoder__x0_1</td>\n",
       "      <td>1</td>\n",
       "      <td>4.360279</td>\n",
       "    </tr>\n",
       "    <tr>\n",
       "      <th>2</th>\n",
       "      <td>encoder__x1_0</td>\n",
       "      <td>2</td>\n",
       "      <td>0.000000</td>\n",
       "    </tr>\n",
       "    <tr>\n",
       "      <th>3</th>\n",
       "      <td>encoder__x2_0</td>\n",
       "      <td>3</td>\n",
       "      <td>0.026742</td>\n",
       "    </tr>\n",
       "    <tr>\n",
       "      <th>4</th>\n",
       "      <td>encoder__x2_1</td>\n",
       "      <td>4</td>\n",
       "      <td>0.056007</td>\n",
       "    </tr>\n",
       "    <tr>\n",
       "      <th>...</th>\n",
       "      <td>...</td>\n",
       "      <td>...</td>\n",
       "      <td>...</td>\n",
       "    </tr>\n",
       "    <tr>\n",
       "      <th>265</th>\n",
       "      <td>encoder__x15_39</td>\n",
       "      <td>265</td>\n",
       "      <td>0.092724</td>\n",
       "    </tr>\n",
       "    <tr>\n",
       "      <th>266</th>\n",
       "      <td>encoder__x15_40</td>\n",
       "      <td>266</td>\n",
       "      <td>0.111859</td>\n",
       "    </tr>\n",
       "    <tr>\n",
       "      <th>267</th>\n",
       "      <td>encoder__x15_41</td>\n",
       "      <td>267</td>\n",
       "      <td>0.279886</td>\n",
       "    </tr>\n",
       "    <tr>\n",
       "      <th>268</th>\n",
       "      <td>encoder__x15_42</td>\n",
       "      <td>268</td>\n",
       "      <td>0.012579</td>\n",
       "    </tr>\n",
       "    <tr>\n",
       "      <th>269</th>\n",
       "      <td>encoder__x15_43</td>\n",
       "      <td>269</td>\n",
       "      <td>0.016806</td>\n",
       "    </tr>\n",
       "  </tbody>\n",
       "</table>\n",
       "<p>270 rows × 3 columns</p>\n",
       "</div>"
      ],
      "text/plain": [
       "             feature  Feature Id  Importances\n",
       "0      encoder__x0_0           0     3.344331\n",
       "1      encoder__x0_1           1     4.360279\n",
       "2      encoder__x1_0           2     0.000000\n",
       "3      encoder__x2_0           3     0.026742\n",
       "4      encoder__x2_1           4     0.056007\n",
       "..               ...         ...          ...\n",
       "265  encoder__x15_39         265     0.092724\n",
       "266  encoder__x15_40         266     0.111859\n",
       "267  encoder__x15_41         267     0.279886\n",
       "268  encoder__x15_42         268     0.012579\n",
       "269  encoder__x15_43         269     0.016806\n",
       "\n",
       "[270 rows x 3 columns]"
      ]
     },
     "execution_count": 9,
     "metadata": {},
     "output_type": "execute_result"
    }
   ],
   "source": [
    "importance = clf.get_feature_importance(prettified=True)\n",
    "importance['Feature Id'] = importance['Feature Id'].astype(int)\n",
    "importance = pd.DataFrame(feature_names, columns=['feature']).reset_index()\\\n",
    "    .merge(importance, left_on='index', right_on='Feature Id')\\\n",
    "    .drop(labels='index', axis=1)\n",
    "importance"
   ]
  },
  {
   "cell_type": "markdown",
   "metadata": {},
   "source": [
    "### Testing ensembles"
   ]
  },
  {
   "cell_type": "code",
   "execution_count": 10,
   "metadata": {},
   "outputs": [
    {
     "name": "stdout",
     "output_type": "stream",
     "text": [
      "Training classifier for subsample 1\n",
      "Training classifier for subsample 2\n",
      "Training classifier for subsample 3\n",
      "Training classifier for subsample 4\n",
      "Training classifier for subsample 5\n",
      "Training classifier for subsample 6\n",
      "Training classifier for subsample 7\n",
      "Training classifier for subsample 8\n",
      "Training classifier for subsample 9\n",
      "Training classifier for subsample 10\n"
     ]
    }
   ],
   "source": [
    "clf2, results2, feature_names = train_classifier(X_train, y_train, 'classifier-voting', X_test, y_test, classifier=voting_classifier)"
   ]
  },
  {
   "cell_type": "code",
   "execution_count": 11,
   "metadata": {},
   "outputs": [
    {
     "name": "stdout",
     "output_type": "stream",
     "text": [
      "              precision    recall  f1-score   support\n",
      "\n",
      "           0       0.98      0.96      0.97      4624\n",
      "           1       0.63      0.81      0.71       350\n",
      "\n",
      "    accuracy                           0.95      4974\n",
      "   macro avg       0.81      0.88      0.84      4974\n",
      "weighted avg       0.96      0.95      0.96      4974\n",
      "\n"
     ]
    }
   ],
   "source": [
    "print(classification_report(results2['predicted'], results2['original']))"
   ]
  },
  {
   "cell_type": "code",
   "execution_count": 12,
   "metadata": {},
   "outputs": [
    {
     "name": "stdout",
     "output_type": "stream",
     "text": [
      "[[4458  166]\n",
      " [  68  282]]\n"
     ]
    }
   ],
   "source": [
    "print(confusion_matrix(results2['predicted'], results2['original']))"
   ]
  },
  {
   "cell_type": "markdown",
   "metadata": {},
   "source": [
    "### Testing weighted CatBoost"
   ]
  },
  {
   "cell_type": "code",
   "execution_count": 11,
   "metadata": {},
   "outputs": [],
   "source": [
    "clf3, results3, _ = train_classifier(X_train, y_train, None, X_test, y_test, classifier=weighted_catboost_classifier)"
   ]
  },
  {
   "cell_type": "code",
   "execution_count": 12,
   "metadata": {},
   "outputs": [
    {
     "name": "stdout",
     "output_type": "stream",
     "text": [
      "              precision    recall  f1-score   support\n",
      "\n",
      "           0       0.96      0.98      0.97      4454\n",
      "           1       0.78      0.68      0.73       520\n",
      "\n",
      "    accuracy                           0.95      4974\n",
      "   macro avg       0.87      0.83      0.85      4974\n",
      "weighted avg       0.94      0.95      0.94      4974\n",
      "\n"
     ]
    }
   ],
   "source": [
    "print(classification_report(results3['predicted'], results3['original']))"
   ]
  },
  {
   "cell_type": "code",
   "execution_count": 13,
   "metadata": {},
   "outputs": [
    {
     "name": "stdout",
     "output_type": "stream",
     "text": [
      "[[4357   97]\n",
      " [ 169  351]]\n"
     ]
    }
   ],
   "source": [
    "print(confusion_matrix(results3['predicted'], results3['original']))"
   ]
  },
  {
   "cell_type": "markdown",
   "metadata": {},
   "source": [
    "### Random Forest classifier"
   ]
  },
  {
   "cell_type": "code",
   "execution_count": 60,
   "metadata": {},
   "outputs": [],
   "source": [
    "def random_forest_classifier(train_data, labels):\n",
    "    clf = RandomForestClassifier(n_estimators=200, class_weight='balanced')\n",
    "    clf.fit(train_data, labels)\n",
    "    return clf"
   ]
  },
  {
   "cell_type": "code",
   "execution_count": 61,
   "metadata": {},
   "outputs": [],
   "source": [
    "rf, results4, _ = train_classifier(X_train, y_train, None, X_test, y_test, classifier=random_forest_classifier)"
   ]
  },
  {
   "cell_type": "code",
   "execution_count": 62,
   "metadata": {},
   "outputs": [
    {
     "name": "stdout",
     "output_type": "stream",
     "text": [
      "              precision    recall  f1-score   support\n",
      "\n",
      "           0       0.98      0.97      0.97      4577\n",
      "           1       0.67      0.76      0.71       397\n",
      "\n",
      "    accuracy                           0.95      4974\n",
      "   macro avg       0.83      0.86      0.84      4974\n",
      "weighted avg       0.95      0.95      0.95      4974\n",
      "\n"
     ]
    }
   ],
   "source": [
    "print(classification_report(results4['predicted'], results4['original']))"
   ]
  },
  {
   "cell_type": "code",
   "execution_count": 17,
   "metadata": {},
   "outputs": [
    {
     "name": "stdout",
     "output_type": "stream",
     "text": [
      "[[4458  168]\n",
      " [  68  280]]\n"
     ]
    }
   ],
   "source": [
    "print(confusion_matrix(results4['predicted'], results4['original']))"
   ]
  },
  {
   "cell_type": "markdown",
   "metadata": {},
   "source": [
    "### CatBoost classifier with categorical input"
   ]
  },
  {
   "cell_type": "code",
   "execution_count": 18,
   "metadata": {},
   "outputs": [
    {
     "name": "stdout",
     "output_type": "stream",
     "text": [
      "\n",
      "bestTest = 0.1356332301\n",
      "bestIteration = 294\n",
      "\n",
      "0:\tloss: 0.1356332\tbest: 0.1356332 (0)\ttotal: 7.52s\tremaining: 3m 37s\n",
      "\n",
      "bestTest = 0.1358253038\n",
      "bestIteration = 74\n",
      "\n",
      "1:\tloss: 0.1358253\tbest: 0.1356332 (0)\ttotal: 15.1s\tremaining: 3m 31s\n",
      "\n",
      "bestTest = 0.1359034238\n",
      "bestIteration = 373\n",
      "\n",
      "2:\tloss: 0.1359034\tbest: 0.1356332 (0)\ttotal: 22.1s\tremaining: 3m 19s\n",
      "\n",
      "bestTest = 0.1378345669\n",
      "bestIteration = 61\n",
      "\n",
      "3:\tloss: 0.1378346\tbest: 0.1356332 (0)\ttotal: 29.4s\tremaining: 3m 11s\n",
      "\n",
      "bestTest = 0.1353892742\n",
      "bestIteration = 347\n",
      "\n",
      "4:\tloss: 0.1353893\tbest: 0.1353893 (4)\ttotal: 36.4s\tremaining: 3m 2s\n",
      "\n",
      "bestTest = 0.1352748354\n",
      "bestIteration = 196\n",
      "\n",
      "5:\tloss: 0.1352748\tbest: 0.1352748 (5)\ttotal: 43.8s\tremaining: 2m 55s\n",
      "\n",
      "bestTest = 0.1353923589\n",
      "bestIteration = 497\n",
      "\n",
      "6:\tloss: 0.1353924\tbest: 0.1352748 (5)\ttotal: 51.3s\tremaining: 2m 48s\n",
      "\n",
      "bestTest = 0.1356291673\n",
      "bestIteration = 130\n",
      "\n",
      "7:\tloss: 0.1356292\tbest: 0.1352748 (5)\ttotal: 59s\tremaining: 2m 42s\n",
      "\n",
      "bestTest = 0.135922902\n",
      "bestIteration = 687\n",
      "\n",
      "8:\tloss: 0.1359229\tbest: 0.1352748 (5)\ttotal: 1m 6s\tremaining: 2m 34s\n",
      "\n",
      "bestTest = 0.1363320618\n",
      "bestIteration = 135\n",
      "\n",
      "9:\tloss: 0.1363321\tbest: 0.1352748 (5)\ttotal: 1m 13s\tremaining: 2m 27s\n",
      "\n",
      "bestTest = 0.1354490471\n",
      "bestIteration = 138\n",
      "\n",
      "10:\tloss: 0.1354490\tbest: 0.1352748 (5)\ttotal: 1m 24s\tremaining: 2m 25s\n",
      "\n",
      "bestTest = 0.1353856095\n",
      "bestIteration = 70\n",
      "\n",
      "11:\tloss: 0.1353856\tbest: 0.1352748 (5)\ttotal: 1m 35s\tremaining: 2m 23s\n",
      "\n",
      "bestTest = 0.1355094908\n",
      "bestIteration = 181\n",
      "\n",
      "12:\tloss: 0.1355095\tbest: 0.1352748 (5)\ttotal: 1m 45s\tremaining: 2m 18s\n",
      "\n",
      "bestTest = 0.1352581146\n",
      "bestIteration = 72\n",
      "\n",
      "13:\tloss: 0.1352581\tbest: 0.1352581 (13)\ttotal: 1m 57s\tremaining: 2m 13s\n",
      "\n",
      "bestTest = 0.1349772905\n",
      "bestIteration = 195\n",
      "\n",
      "14:\tloss: 0.1349773\tbest: 0.1349773 (14)\ttotal: 2m 7s\tremaining: 2m 7s\n",
      "\n",
      "bestTest = 0.1333932153\n",
      "bestIteration = 84\n",
      "\n",
      "15:\tloss: 0.1333932\tbest: 0.1333932 (15)\ttotal: 2m 18s\tremaining: 2m 1s\n",
      "\n",
      "bestTest = 0.1346920382\n",
      "bestIteration = 279\n",
      "\n",
      "16:\tloss: 0.1346920\tbest: 0.1333932 (15)\ttotal: 2m 28s\tremaining: 1m 53s\n",
      "\n",
      "bestTest = 0.1356582164\n",
      "bestIteration = 90\n",
      "\n",
      "17:\tloss: 0.1356582\tbest: 0.1333932 (15)\ttotal: 2m 39s\tremaining: 1m 46s\n",
      "\n",
      "bestTest = 0.1345851096\n",
      "bestIteration = 220\n",
      "\n",
      "18:\tloss: 0.1345851\tbest: 0.1333932 (15)\ttotal: 2m 49s\tremaining: 1m 38s\n",
      "\n",
      "bestTest = 0.1350650008\n",
      "bestIteration = 47\n",
      "\n",
      "19:\tloss: 0.1350650\tbest: 0.1333932 (15)\ttotal: 3m\tremaining: 1m 30s\n",
      "\n",
      "bestTest = 0.1358282109\n",
      "bestIteration = 95\n",
      "\n",
      "20:\tloss: 0.1358282\tbest: 0.1333932 (15)\ttotal: 3m 25s\tremaining: 1m 28s\n",
      "\n",
      "bestTest = 0.1345767233\n",
      "bestIteration = 42\n",
      "\n",
      "21:\tloss: 0.1345767\tbest: 0.1333932 (15)\ttotal: 3m 49s\tremaining: 1m 23s\n",
      "\n",
      "bestTest = 0.1343616466\n",
      "bestIteration = 125\n",
      "\n",
      "22:\tloss: 0.1343616\tbest: 0.1333932 (15)\ttotal: 4m 12s\tremaining: 1m 16s\n",
      "\n",
      "bestTest = 0.1363792852\n",
      "bestIteration = 31\n",
      "\n",
      "23:\tloss: 0.1363793\tbest: 0.1333932 (15)\ttotal: 4m 36s\tremaining: 1m 9s\n",
      "\n",
      "bestTest = 0.1343502119\n",
      "bestIteration = 123\n",
      "\n",
      "24:\tloss: 0.1343502\tbest: 0.1333932 (15)\ttotal: 5m\tremaining: 1m\n",
      "\n",
      "bestTest = 0.1349791747\n",
      "bestIteration = 33\n",
      "\n",
      "25:\tloss: 0.1349792\tbest: 0.1333932 (15)\ttotal: 5m 24s\tremaining: 50s\n",
      "\n",
      "bestTest = 0.1350017608\n",
      "bestIteration = 139\n",
      "\n",
      "26:\tloss: 0.1350018\tbest: 0.1333932 (15)\ttotal: 5m 48s\tremaining: 38.7s\n",
      "\n",
      "bestTest = 0.1346690091\n",
      "bestIteration = 30\n",
      "\n",
      "27:\tloss: 0.1346690\tbest: 0.1333932 (15)\ttotal: 6m 13s\tremaining: 26.7s\n",
      "\n",
      "bestTest = 0.1340856866\n",
      "bestIteration = 141\n",
      "\n",
      "28:\tloss: 0.1340857\tbest: 0.1333932 (15)\ttotal: 6m 37s\tremaining: 13.7s\n",
      "\n",
      "bestTest = 0.1354236614\n",
      "bestIteration = 34\n",
      "\n",
      "29:\tloss: 0.1354237\tbest: 0.1333932 (15)\ttotal: 7m 2s\tremaining: 0us\n",
      "Estimating final quality...\n"
     ]
    }
   ],
   "source": [
    "cb = plain_catboost_classifier(X_train, y_train)"
   ]
  },
  {
   "cell_type": "code",
   "execution_count": 19,
   "metadata": {},
   "outputs": [],
   "source": [
    "test_data = X_test.copy()\n",
    "test_data.fillna(value='NA', inplace=True)\n",
    "results5 = cb.predict(test_data.astype('category'))"
   ]
  },
  {
   "cell_type": "code",
   "execution_count": 20,
   "metadata": {},
   "outputs": [
    {
     "name": "stdout",
     "output_type": "stream",
     "text": [
      "              precision    recall  f1-score   support\n",
      "\n",
      "           0       0.98      0.97      0.98      4570\n",
      "           1       0.70      0.77      0.73       404\n",
      "\n",
      "    accuracy                           0.95      4974\n",
      "   macro avg       0.84      0.87      0.85      4974\n",
      "weighted avg       0.96      0.95      0.96      4974\n",
      "\n"
     ]
    }
   ],
   "source": [
    "print(classification_report(results5, y_test))"
   ]
  },
  {
   "cell_type": "code",
   "execution_count": 21,
   "metadata": {},
   "outputs": [
    {
     "data": {
      "text/html": [
       "<div>\n",
       "<style scoped>\n",
       "    .dataframe tbody tr th:only-of-type {\n",
       "        vertical-align: middle;\n",
       "    }\n",
       "\n",
       "    .dataframe tbody tr th {\n",
       "        vertical-align: top;\n",
       "    }\n",
       "\n",
       "    .dataframe thead th {\n",
       "        text-align: right;\n",
       "    }\n",
       "</style>\n",
       "<table border=\"1\" class=\"dataframe\">\n",
       "  <thead>\n",
       "    <tr style=\"text-align: right;\">\n",
       "      <th></th>\n",
       "      <th>Feature Id</th>\n",
       "      <th>Importances</th>\n",
       "    </tr>\n",
       "  </thead>\n",
       "  <tbody>\n",
       "    <tr>\n",
       "      <th>0</th>\n",
       "      <td>pos</td>\n",
       "      <td>13.860154</td>\n",
       "    </tr>\n",
       "    <tr>\n",
       "      <th>1</th>\n",
       "      <td>next.dep</td>\n",
       "      <td>13.507289</td>\n",
       "    </tr>\n",
       "    <tr>\n",
       "      <th>2</th>\n",
       "      <td>next.pos</td>\n",
       "      <td>11.556329</td>\n",
       "    </tr>\n",
       "    <tr>\n",
       "      <th>3</th>\n",
       "      <td>english.word</td>\n",
       "      <td>9.913548</td>\n",
       "    </tr>\n",
       "    <tr>\n",
       "      <th>4</th>\n",
       "      <td>prev.dep</td>\n",
       "      <td>8.913898</td>\n",
       "    </tr>\n",
       "    <tr>\n",
       "      <th>5</th>\n",
       "      <td>prev.pos</td>\n",
       "      <td>8.666733</td>\n",
       "    </tr>\n",
       "    <tr>\n",
       "      <th>6</th>\n",
       "      <td>next.dep2</td>\n",
       "      <td>8.609144</td>\n",
       "    </tr>\n",
       "    <tr>\n",
       "      <th>7</th>\n",
       "      <td>next.pos2</td>\n",
       "      <td>8.469728</td>\n",
       "    </tr>\n",
       "    <tr>\n",
       "      <th>8</th>\n",
       "      <td>prev.dep2</td>\n",
       "      <td>7.447260</td>\n",
       "    </tr>\n",
       "    <tr>\n",
       "      <th>9</th>\n",
       "      <td>prev.pos2</td>\n",
       "      <td>5.286422</td>\n",
       "    </tr>\n",
       "    <tr>\n",
       "      <th>10</th>\n",
       "      <td>has.vowels</td>\n",
       "      <td>3.653432</td>\n",
       "    </tr>\n",
       "    <tr>\n",
       "      <th>11</th>\n",
       "      <td>starts.with.two</td>\n",
       "      <td>0.072972</td>\n",
       "    </tr>\n",
       "    <tr>\n",
       "      <th>12</th>\n",
       "      <td>just.letters</td>\n",
       "      <td>0.043091</td>\n",
       "    </tr>\n",
       "    <tr>\n",
       "      <th>13</th>\n",
       "      <td>has.special</td>\n",
       "      <td>0.000000</td>\n",
       "    </tr>\n",
       "    <tr>\n",
       "      <th>14</th>\n",
       "      <td>roman</td>\n",
       "      <td>0.000000</td>\n",
       "    </tr>\n",
       "    <tr>\n",
       "      <th>15</th>\n",
       "      <td>long.char.seq</td>\n",
       "      <td>0.000000</td>\n",
       "    </tr>\n",
       "  </tbody>\n",
       "</table>\n",
       "</div>"
      ],
      "text/plain": [
       "         Feature Id  Importances\n",
       "0               pos    13.860154\n",
       "1          next.dep    13.507289\n",
       "2          next.pos    11.556329\n",
       "3      english.word     9.913548\n",
       "4          prev.dep     8.913898\n",
       "5          prev.pos     8.666733\n",
       "6         next.dep2     8.609144\n",
       "7         next.pos2     8.469728\n",
       "8         prev.dep2     7.447260\n",
       "9         prev.pos2     5.286422\n",
       "10       has.vowels     3.653432\n",
       "11  starts.with.two     0.072972\n",
       "12     just.letters     0.043091\n",
       "13      has.special     0.000000\n",
       "14            roman     0.000000\n",
       "15    long.char.seq     0.000000"
      ]
     },
     "execution_count": 21,
     "metadata": {},
     "output_type": "execute_result"
    }
   ],
   "source": [
    "cb.get_feature_importance(prettified=True)"
   ]
  },
  {
   "cell_type": "markdown",
   "metadata": {},
   "source": [
    "### Weighted CatBoost classifier with categorical input "
   ]
  },
  {
   "cell_type": "code",
   "execution_count": 22,
   "metadata": {},
   "outputs": [
    {
     "name": "stdout",
     "output_type": "stream",
     "text": [
      "\n",
      "bestTest = 0.3288358029\n",
      "bestIteration = 180\n",
      "\n",
      "0:\tloss: 0.3288358\tbest: 0.3288358 (0)\ttotal: 7.56s\tremaining: 3m 39s\n",
      "\n",
      "bestTest = 0.3317518728\n",
      "bestIteration = 23\n",
      "\n",
      "1:\tloss: 0.3317519\tbest: 0.3288358 (0)\ttotal: 15.5s\tremaining: 3m 36s\n",
      "\n",
      "bestTest = 0.3316208746\n",
      "bestIteration = 112\n",
      "\n",
      "2:\tloss: 0.3316209\tbest: 0.3288358 (0)\ttotal: 23s\tremaining: 3m 26s\n",
      "\n",
      "bestTest = 0.3282740598\n",
      "bestIteration = 27\n",
      "\n",
      "3:\tloss: 0.3282741\tbest: 0.3282741 (3)\ttotal: 30.8s\tremaining: 3m 19s\n",
      "\n",
      "bestTest = 0.3274094285\n",
      "bestIteration = 102\n",
      "\n",
      "4:\tloss: 0.3274094\tbest: 0.3274094 (4)\ttotal: 38s\tremaining: 3m 9s\n",
      "\n",
      "bestTest = 0.3296085643\n",
      "bestIteration = 67\n",
      "\n",
      "5:\tloss: 0.3296086\tbest: 0.3274094 (4)\ttotal: 46s\tremaining: 3m 3s\n",
      "\n",
      "bestTest = 0.3296851484\n",
      "bestIteration = 95\n",
      "\n",
      "6:\tloss: 0.3296851\tbest: 0.3274094 (4)\ttotal: 53.4s\tremaining: 2m 55s\n",
      "\n",
      "bestTest = 0.3295217145\n",
      "bestIteration = 35\n",
      "\n",
      "7:\tloss: 0.3295217\tbest: 0.3274094 (4)\ttotal: 1m 1s\tremaining: 2m 48s\n",
      "\n",
      "bestTest = 0.3289116161\n",
      "bestIteration = 108\n",
      "\n",
      "8:\tloss: 0.3289116\tbest: 0.3274094 (4)\ttotal: 1m 8s\tremaining: 2m 40s\n",
      "\n",
      "bestTest = 0.3303381815\n",
      "bestIteration = 64\n",
      "\n",
      "9:\tloss: 0.3303382\tbest: 0.3274094 (4)\ttotal: 1m 16s\tremaining: 2m 33s\n",
      "\n",
      "bestTest = 0.3280842322\n",
      "bestIteration = 68\n",
      "\n",
      "10:\tloss: 0.3280842\tbest: 0.3274094 (4)\ttotal: 1m 27s\tremaining: 2m 31s\n",
      "\n",
      "bestTest = 0.331705961\n",
      "bestIteration = 27\n",
      "\n",
      "11:\tloss: 0.3317060\tbest: 0.3274094 (4)\ttotal: 1m 39s\tremaining: 2m 28s\n",
      "\n",
      "bestTest = 0.3249954344\n",
      "bestIteration = 98\n",
      "\n",
      "12:\tloss: 0.3249954\tbest: 0.3249954 (12)\ttotal: 1m 50s\tremaining: 2m 23s\n",
      "\n",
      "bestTest = 0.3285472236\n",
      "bestIteration = 30\n",
      "\n",
      "13:\tloss: 0.3285472\tbest: 0.3249954 (12)\ttotal: 2m 1s\tremaining: 2m 18s\n",
      "\n",
      "bestTest = 0.3280588415\n",
      "bestIteration = 93\n",
      "\n",
      "14:\tloss: 0.3280588\tbest: 0.3249954 (12)\ttotal: 2m 12s\tremaining: 2m 12s\n",
      "\n",
      "bestTest = 0.330740194\n",
      "bestIteration = 24\n",
      "\n",
      "15:\tloss: 0.3307402\tbest: 0.3249954 (12)\ttotal: 2m 23s\tremaining: 2m 5s\n",
      "\n",
      "bestTest = 0.3270500179\n",
      "bestIteration = 70\n",
      "\n",
      "16:\tloss: 0.3270500\tbest: 0.3249954 (12)\ttotal: 2m 34s\tremaining: 1m 58s\n",
      "\n",
      "bestTest = 0.32937521\n",
      "bestIteration = 32\n",
      "\n",
      "17:\tloss: 0.3293752\tbest: 0.3249954 (12)\ttotal: 2m 46s\tremaining: 1m 50s\n",
      "\n",
      "bestTest = 0.3265007747\n",
      "bestIteration = 95\n",
      "\n",
      "18:\tloss: 0.3265008\tbest: 0.3249954 (12)\ttotal: 2m 57s\tremaining: 1m 42s\n",
      "\n",
      "bestTest = 0.3253383005\n",
      "bestIteration = 33\n",
      "\n",
      "19:\tloss: 0.3253383\tbest: 0.3249954 (12)\ttotal: 3m 8s\tremaining: 1m 34s\n",
      "\n",
      "bestTest = 0.3240349512\n",
      "bestIteration = 60\n",
      "\n",
      "20:\tloss: 0.3240350\tbest: 0.3240350 (20)\ttotal: 3m 32s\tremaining: 1m 30s\n",
      "\n",
      "bestTest = 0.3237637683\n",
      "bestIteration = 15\n",
      "\n",
      "21:\tloss: 0.3237638\tbest: 0.3237638 (21)\ttotal: 3m 55s\tremaining: 1m 25s\n",
      "\n",
      "bestTest = 0.3250257775\n",
      "bestIteration = 65\n",
      "\n",
      "22:\tloss: 0.3250258\tbest: 0.3237638 (21)\ttotal: 4m 20s\tremaining: 1m 19s\n",
      "\n",
      "bestTest = 0.3249412465\n",
      "bestIteration = 14\n",
      "\n",
      "23:\tloss: 0.3249412\tbest: 0.3237638 (21)\ttotal: 4m 44s\tremaining: 1m 11s\n",
      "\n",
      "bestTest = 0.3246683504\n",
      "bestIteration = 74\n",
      "\n",
      "24:\tloss: 0.3246684\tbest: 0.3237638 (21)\ttotal: 5m 8s\tremaining: 1m 1s\n",
      "\n",
      "bestTest = 0.3219690632\n",
      "bestIteration = 18\n",
      "\n",
      "25:\tloss: 0.3219691\tbest: 0.3219691 (25)\ttotal: 5m 32s\tremaining: 51.1s\n",
      "\n",
      "bestTest = 0.3240551871\n",
      "bestIteration = 76\n",
      "\n",
      "26:\tloss: 0.3240552\tbest: 0.3219691 (25)\ttotal: 5m 56s\tremaining: 39.6s\n",
      "\n",
      "bestTest = 0.3212301638\n",
      "bestIteration = 15\n",
      "\n",
      "27:\tloss: 0.3212302\tbest: 0.3212302 (27)\ttotal: 6m 21s\tremaining: 27.2s\n",
      "\n",
      "bestTest = 0.325303691\n",
      "bestIteration = 67\n",
      "\n",
      "28:\tloss: 0.3253037\tbest: 0.3212302 (27)\ttotal: 6m 45s\tremaining: 14s\n",
      "\n",
      "bestTest = 0.3224726181\n",
      "bestIteration = 27\n",
      "\n",
      "29:\tloss: 0.3224726\tbest: 0.3212302 (27)\ttotal: 7m 10s\tremaining: 0us\n",
      "Estimating final quality...\n"
     ]
    }
   ],
   "source": [
    "cb = plain_catboost_classifier(X_train, y_train, weighted=True)"
   ]
  },
  {
   "cell_type": "code",
   "execution_count": 23,
   "metadata": {},
   "outputs": [
    {
     "name": "stdout",
     "output_type": "stream",
     "text": [
      "              precision    recall  f1-score   support\n",
      "\n",
      "           0       0.97      0.98      0.97      4508\n",
      "           1       0.75      0.73      0.74       466\n",
      "\n",
      "    accuracy                           0.95      4974\n",
      "   macro avg       0.86      0.85      0.86      4974\n",
      "weighted avg       0.95      0.95      0.95      4974\n",
      "\n"
     ]
    }
   ],
   "source": [
    "test_data = X_test.copy()\n",
    "test_data.fillna(value='NA', inplace=True)\n",
    "results6 = cb.predict(test_data.astype('category'))\n",
    "print(classification_report(results6, y_test))"
   ]
  },
  {
   "cell_type": "markdown",
   "metadata": {},
   "source": [
    "### XGBoost classifier"
   ]
  },
  {
   "cell_type": "code",
   "execution_count": 24,
   "metadata": {},
   "outputs": [],
   "source": [
    "params = {\n",
    "    'min_child_weight': [1, 5, 10],\n",
    "    'gamma': [0.5, 1.5, 5],\n",
    "    'subsample': [0.6, 1.0],\n",
    "    'colsample_bytree': [0.6, 1.0],\n",
    "    'max_depth': [3, 5]\n",
    "}\n",
    "\n",
    "def xgb_classifier(train_data, labels):\n",
    "    clf = XGBClassifier(learning_rate=0.01, n_estimators=100)\n",
    "    search = GridSearchCV(clf, param_grid=params, cv=2, n_jobs=1)\n",
    "    search.fit(train_data, labels)\n",
    "    return search.best_estimator_"
   ]
  },
  {
   "cell_type": "code",
   "execution_count": 25,
   "metadata": {},
   "outputs": [],
   "source": [
    "%%capture\n",
    "xgb, resxgb, _ = train_classifier(X_train, y_train, None, X_test, y_test, classifier=xgb_classifier)"
   ]
  },
  {
   "cell_type": "code",
   "execution_count": 27,
   "metadata": {},
   "outputs": [
    {
     "name": "stdout",
     "output_type": "stream",
     "text": [
      "              precision    recall  f1-score   support\n",
      "\n",
      "           0       0.98      0.97      0.97      4570\n",
      "           1       0.69      0.76      0.73       404\n",
      "\n",
      "    accuracy                           0.95      4974\n",
      "   macro avg       0.83      0.87      0.85      4974\n",
      "weighted avg       0.96      0.95      0.95      4974\n",
      "\n"
     ]
    }
   ],
   "source": [
    "print(classification_report(resxgb['predicted'], resxgb['original']))"
   ]
  },
  {
   "cell_type": "markdown",
   "metadata": {},
   "source": [
    "### Weighted XGBoost classifier"
   ]
  },
  {
   "cell_type": "code",
   "execution_count": 28,
   "metadata": {},
   "outputs": [],
   "source": [
    "def xgb_classifier(train_data, labels):\n",
    "    classes=np.unique(y_train)\n",
    "    weights = compute_class_weight(class_weight='balanced', classes=classes, y=y_train)\n",
    "    clf = XGBClassifier(learning_rate=0.01, n_estimators=100, scale_pos_weight=np.max(weights/np.min(weights)))\n",
    "    search = GridSearchCV(clf, param_grid=params, cv=2, n_jobs=1)\n",
    "    search.fit(train_data, labels)\n",
    "    return search.best_estimator_"
   ]
  },
  {
   "cell_type": "code",
   "execution_count": 29,
   "metadata": {},
   "outputs": [],
   "source": [
    "%%capture\n",
    "xgb, resxgb2, _ = train_classifier(X_train, y_train, None, X_test, y_test, classifier=xgb_classifier)"
   ]
  },
  {
   "cell_type": "code",
   "execution_count": 30,
   "metadata": {},
   "outputs": [
    {
     "name": "stdout",
     "output_type": "stream",
     "text": [
      "              precision    recall  f1-score   support\n",
      "\n",
      "           0       0.96      0.98      0.97      4466\n",
      "           1       0.77      0.68      0.72       508\n",
      "\n",
      "    accuracy                           0.95      4974\n",
      "   macro avg       0.86      0.83      0.84      4974\n",
      "weighted avg       0.94      0.95      0.94      4974\n",
      "\n"
     ]
    }
   ],
   "source": [
    "print(classification_report(resxgb2['predicted'], resxgb2['original']))"
   ]
  },
  {
   "cell_type": "markdown",
   "metadata": {},
   "source": [
    "### McNemara tables test"
   ]
  },
  {
   "cell_type": "markdown",
   "metadata": {},
   "source": [
    "Statistically compare RandomForest, weighted CatBoost and weighted XGBoost classifier perfromance:"
   ]
  },
  {
   "cell_type": "code",
   "execution_count": 63,
   "metadata": {},
   "outputs": [
    {
     "data": {
      "text/plain": [
       "{'RandomForest vs CatBoost': 0.028818733250275556,\n",
       " 'RandomForest vs XGBoost': 0.6830913983096086,\n",
       " 'CatBoost vs XGBoost': 0.010428224435337065}"
      ]
     },
     "execution_count": 63,
     "metadata": {},
     "output_type": "execute_result"
    }
   ],
   "source": [
    "contingency = mcnemar_tables(results['original'], results3['predicted'], results4['predicted'], resxgb2['predicted']) \n",
    "model_names = {'model_0': 'RandomForest', 'model_1': 'CatBoost', 'model_2': 'XGBoost'}\n",
    "keys = list(tbl.keys())\n",
    "for oldname, newname in model_names.items():\n",
    "    keys = list(map(lambda x: x.replace(oldname, newname), keys))\n",
    "contingency = dict(zip(keys, tbl.values()))\n",
    "pvals = {key: mcnemar(val)[1] for key, val in contingency.items()} \n",
    "pvals"
   ]
  },
  {
   "cell_type": "markdown",
   "metadata": {},
   "source": [
    "## Test GradientBoosting and Random Forest classifiers with optimal threshold identification"
   ]
  },
  {
   "cell_type": "code",
   "execution_count": null,
   "metadata": {},
   "outputs": [],
   "source": [
    "train_data, train_labels, encoders, ohe, label_encoder = preprocess_data(X_train, y_train)\n",
    "test_data, test_labels = preprocess_test_data(X_test, y_test, encoders, ohe, label_encoder)"
   ]
  },
  {
   "cell_type": "code",
   "execution_count": null,
   "metadata": {},
   "outputs": [],
   "source": [
    "gbm = GradientBoostingClassifier()\n",
    "yb_report(gbm, train_data, train_labels, X_test=test_data, y_test=test_labels)"
   ]
  },
  {
   "cell_type": "code",
   "execution_count": null,
   "metadata": {},
   "outputs": [],
   "source": [
    "discrimination_threshold(gbm, train_data, train_labels)"
   ]
  },
  {
   "cell_type": "code",
   "execution_count": null,
   "metadata": {},
   "outputs": [],
   "source": [
    "rf = RandomForestClassifier(n_estimators=200)\n",
    "discrimination_threshold(rf, train_data, train_labels)"
   ]
  }
 ],
 "metadata": {
  "kernelspec": {
   "display_name": "Python 3",
   "language": "python",
   "name": "python3"
  },
  "language_info": {
   "codemirror_mode": {
    "name": "ipython",
    "version": 3
   },
   "file_extension": ".py",
   "mimetype": "text/x-python",
   "name": "python",
   "nbconvert_exporter": "python",
   "pygments_lexer": "ipython3",
   "version": "3.6.9"
  }
 },
 "nbformat": 4,
 "nbformat_minor": 4
}
